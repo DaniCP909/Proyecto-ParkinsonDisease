{
 "cells": [
  {
   "cell_type": "code",
   "execution_count": 1,
   "id": "ff432a27",
   "metadata": {},
   "outputs": [],
   "source": [
    "import numpy as np\n",
    "import cv2\n",
    "import os\n",
    "import pickle\n",
    "import random\n",
    "import shutil\n",
    "import sys\n",
    "import time\n",
    "import zipfile\n",
    "from matplotlib.collections import LineCollection\n",
    "import matplotlib.lines as mlines\n",
    "import matplotlib.pyplot as plt\n",
    "#import seaborn as sns\n",
    "from sklearn.metrics import (\n",
    "    accuracy_score,\n",
    "    confusion_matrix,\n",
    "    f1_score,\n",
    "    precision_score,\n",
    "    recall_score,\n",
    ")\n",
    "import nn\n",
    "import random\n",
    "import torch"
   ]
  },
  {
   "cell_type": "code",
   "execution_count": 2,
   "id": "30eaf691",
   "metadata": {},
   "outputs": [],
   "source": [
    "import pahaw_loader\n",
    "from PahawOfflineSimDataset import PahawOfflineSimDataset, patches_per_image, patch_generator"
   ]
  },
  {
   "cell_type": "code",
   "execution_count": 3,
   "id": "cd831494",
   "metadata": {},
   "outputs": [
    {
     "name": "stdout",
     "output_type": "stream",
     "text": [
      "cuda:0\n"
     ]
    }
   ],
   "source": [
    "device = torch.device(\"cuda:0\" if torch.cuda.is_available() else \"cpu\")\n",
    "print(device)"
   ]
  },
  {
   "cell_type": "code",
   "execution_count": 4,
   "id": "2b0d4546",
   "metadata": {},
   "outputs": [
    {
     "name": "stdout",
     "output_type": "stream",
     "text": [
      "Archivo no encontrado: PaHaW/PaHaW_public/00017/00017__8_1.svc, se omite.\n",
      "Tarea vacía para Sujeto 17, Tarea 8, se omite.\n",
      "Archivo no encontrado: PaHaW/PaHaW_public/00027/00027__8_1.svc, se omite.\n",
      "Tarea vacía para Sujeto 27, Tarea 8, se omite.\n",
      "Archivo no encontrado: PaHaW/PaHaW_public/00061/00061__1_1.svc, se omite.\n",
      "Tarea vacía para Sujeto 61, Tarea 1, se omite.\n",
      "Archivo no encontrado: PaHaW/PaHaW_public/00080/00080__1_1.svc, se omite.\n",
      "Tarea vacía para Sujeto 80, Tarea 1, se omite.\n",
      "Archivo no encontrado: PaHaW/PaHaW_public/00089/00089__1_1.svc, se omite.\n",
      "Tarea vacía para Sujeto 89, Tarea 1, se omite.\n"
     ]
    }
   ],
   "source": [
    "subjects_pd_status_years, subjects_tasks = pahaw_loader.load()"
   ]
  },
  {
   "cell_type": "code",
   "execution_count": 5,
   "id": "4cd4060d",
   "metadata": {},
   "outputs": [
    {
     "name": "stdout",
     "output_type": "stream",
     "text": [
      "Altitudes [501]: [0.12, 0.12, 0.32, 0.32, 0.32, 0.32, 0.06, 0.06, 0.06, 0.06]\n",
      "Presones [501]: [0.0, 0.12169735788630905, 0.24499599679743794, 0.3434747798238591, 0.41072858286629305, 0.46357085668534825, 0.5148118494795837, 0.5692554043234588, 0.6092874299439551, 0.644515612489992]\n",
      "Altitudes [216]: [0.0, 0.0, 0.0, 0.0, 0.19642857142857142, 0.19642857142857142, 0.4107142857142857, 0.4107142857142857, 0.4107142857142857, 0.4107142857142857]\n",
      "Presones [216]: [0.0, 0.08606856309263311, 0.199854121079504, 0.29686360320933625, 0.35667396061269147, 0.40189642596644787, 0.4485776805251641, 0.4733770970094821, 0.49817651349380015, 0.5200583515681984]\n",
      "Altitudes [85]: [0.0, 0.0, 0.34375, 0.34375, 0.34375, 0.34375, 0.34375, 0.65625, 0.65625, 0.65625]\n",
      "Presones [85]: [0.0, 0.24176646706586827, 0.4184131736526946, 0.5516467065868264, 0.625, 0.6549401197604791, 0.6758982035928144, 0.7103293413173652, 0.749251497005988, 0.7851796407185628]\n",
      "Altitudes [535]: [0.3333333333333333, 0.3333333333333333, 0.3333333333333333, 0.3333333333333333, 0.5625, 0.5625, 0.5625, 0.5625, 0.5625, 0.5625]\n",
      "Presones [535]: [0.0, 0.08713692946058091, 0.19294605809128632, 0.2814661134163209, 0.33402489626556015, 0.37828492392807744, 0.4114799446749654, 0.4322268326417704, 0.4557399723374827, 0.46680497925311204]\n",
      "Altitudes [268]: [0.0, 0.0, 0.0, 0.0, 0.0, 0.0, 0.0, 0.0, 0.0, 0.0]\n",
      "Presones [268]: [0.0, 0.10467882632831087, 0.2767644726407613, 0.3703409992069786, 0.45757335448057096, 0.500396510705789, 0.5289452815226011, 0.5463917525773195, 0.5670103092783505, 0.578112609040444]\n",
      "Altitudes [95]: [0.5217391304347826, 0.5217391304347826, 1.0, 1.0, 1.0, 1.0, 1.0, 1.0, 1.0, 1.0]\n",
      "Presones [95]: [0.0, 0.1358511837655017, 0.2576099210822999, 0.37936865839909806, 0.45264937993235627, 0.5112739571589628, 0.5372040586245772, 0.5935738444193912, 0.6138669673055243, 0.6296505073280722]\n"
     ]
    },
    {
     "data": {
      "text/plain": [
       "True"
      ]
     },
     "execution_count": 5,
     "metadata": {},
     "output_type": "execute_result"
    }
   ],
   "source": [
    "task0 = subjects_tasks[1][5]\n",
    "task0.plot_task(1)\n",
    "cv2.imwrite(\"results/presiones.png\", task0.getImage())"
   ]
  },
  {
   "cell_type": "code",
   "execution_count": 5,
   "id": "d10abb60",
   "metadata": {},
   "outputs": [],
   "source": [
    "subjects_ids = list(subjects_tasks.keys())\n",
    "data_label_img = []\n",
    "for subject_id in subjects_ids:\n",
    "    for task_number in range(2, 9):\n",
    "        task = subjects_tasks[subject_id].get(task_number)\n",
    "        if task is not None:\n",
    "            data_label_img.append(\n",
    "                (\n",
    "                    task,\n",
    "                    subjects_pd_status_years[subject_id][0]\n",
    "                 )\n",
    "            )\n",
    "pahaw_offline_dataset = PahawOfflineSimDataset(data_label_img, device=device)"
   ]
  },
  {
   "cell_type": "code",
   "execution_count": 6,
   "id": "a9021631",
   "metadata": {},
   "outputs": [],
   "source": [
    "def plot_patches(patches: list, npatches_per_plot = 50):\n",
    "    fig, axes = plt.subplots(1, npatches_per_plot, figsize = (12,4))\n",
    "    for i in range(len(patches)):\n",
    "        patch_np = patches[i].squeeze(0).numpy()  # (H, W)\n",
    "\n",
    "        # Escalar si hace falta (está normalizado o en float)\n",
    "        patch_uint8 = (patch_np * 255).astype('uint8') if patch_np.max() <= 1 else patch_np.astype('uint8')\n",
    "        if i < npatches_per_plot:\n",
    "            axes[i].imshow(patch_uint8, cmap='gray')\n",
    "            axes[i].axis('off')\n",
    "        #cv2.imwrite(f\"tareas_generadas/patch{i}.png\", patch_uint8)\n",
    "    plt.show(\"patches_plot.png\")"
   ]
  },
  {
   "cell_type": "code",
   "execution_count": 8,
   "id": "45cc1a69",
   "metadata": {},
   "outputs": [
    {
     "name": "stdout",
     "output_type": "stream",
     "text": [
      "torch.Size([1, 672, 4600])\n"
     ]
    }
   ],
   "source": [
    "patches, label = pahaw_offline_dataset[0]"
   ]
  },
  {
   "cell_type": "code",
   "execution_count": 14,
   "id": "895742db",
   "metadata": {},
   "outputs": [
    {
     "ename": "IndexError",
     "evalue": "list index out of range",
     "output_type": "error",
     "traceback": [
      "\u001b[31m---------------------------------------------------------------------------\u001b[39m",
      "\u001b[31mIndexError\u001b[39m                                Traceback (most recent call last)",
      "\u001b[36mCell\u001b[39m\u001b[36m \u001b[39m\u001b[32mIn[14]\u001b[39m\u001b[32m, line 1\u001b[39m\n\u001b[32m----> \u001b[39m\u001b[32m1\u001b[39m plt.imshow(\u001b[43mpatches\u001b[49m\u001b[43m[\u001b[49m\u001b[32;43m100\u001b[39;49m\u001b[43m]\u001b[49m.squeeze(\u001b[32m0\u001b[39m).numpy(), cmap=\u001b[33m'\u001b[39m\u001b[33mgray\u001b[39m\u001b[33m'\u001b[39m)\n\u001b[32m      2\u001b[39m plt.show()\n",
      "\u001b[31mIndexError\u001b[39m: list index out of range"
     ]
    }
   ],
   "source": [
    "plt.imshow(patches[100].squeeze(0).numpy(), cmap='gray')\n",
    "plt.show()"
   ]
  },
  {
   "cell_type": "code",
   "execution_count": 27,
   "id": "61770c64",
   "metadata": {},
   "outputs": [
    {
     "name": "stdout",
     "output_type": "stream",
     "text": [
      "torch.Size([1, 672, 200])\n"
     ]
    },
    {
     "data": {
      "image/png": "[encoded data removed]",
      "text/plain": [
       "<Figure size 1200x400 with 100 Axes>"
      ]
     },
     "metadata": {},
     "output_type": "display_data"
    }
   ],
   "source": [
    "print(patches[0].shape)\n",
    "plot_patches(patches, 100)"
   ]
  },
  {
   "cell_type": "code",
   "execution_count": null,
   "id": "897c044c",
   "metadata": {},
   "outputs": [],
   "source": []
  }
 ],
 "metadata": {
  "kernelspec": {
   "display_name": ".pdenv",
   "language": "python",
   "name": "python3"
  },
  "language_info": {
   "codemirror_mode": {
    "name": "ipython",
    "version": 3
   },
   "file_extension": ".py",
   "mimetype": "text/x-python",
   "name": "python",
   "nbconvert_exporter": "python",
   "pygments_lexer": "ipython3",
   "version": "3.10.12"
  }
 },
 "nbformat": 4,
 "nbformat_minor": 5
}
