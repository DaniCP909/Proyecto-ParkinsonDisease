{
 "cells": [
  {
   "cell_type": "code",
   "execution_count": 1,
   "id": "ff432a27",
   "metadata": {},
   "outputs": [],
   "source": [
    "import numpy as np\n",
    "import cv2\n",
    "import os\n",
    "import pickle\n",
    "import random\n",
    "import shutil\n",
    "import sys\n",
    "import time\n",
    "import zipfile\n",
    "from matplotlib.collections import LineCollection\n",
    "import matplotlib.lines as mlines\n",
    "import matplotlib.pyplot as plt\n",
    "import seaborn as sns\n",
    "from sklearn.metrics import (\n",
    "    accuracy_score,\n",
    "    confusion_matrix,\n",
    "    f1_score,\n",
    "    precision_score,\n",
    "    recall_score,\n",
    ")\n",
    "import nn\n",
    "import random\n",
    "import torch"
   ]
  },
  {
   "cell_type": "code",
   "execution_count": 2,
   "id": "30eaf691",
   "metadata": {},
   "outputs": [],
   "source": [
    "import pahaw_loader\n",
    "from PahawOfflineSimDataset import PahawOfflineSimDataset, patches_per_image, patch_generator"
   ]
  },
  {
   "cell_type": "code",
   "execution_count": 3,
   "id": "cd831494",
   "metadata": {},
   "outputs": [
    {
     "name": "stdout",
     "output_type": "stream",
     "text": [
      "cpu\n"
     ]
    }
   ],
   "source": [
    "device = torch.device(\"cuda:0\" if torch.cuda.is_available() else \"cpu\")\n",
    "print(device)"
   ]
  },
  {
   "cell_type": "code",
   "execution_count": 12,
   "id": "5283c471",
   "metadata": {},
   "outputs": [],
   "source": [
    "test_img = cv2.imread(\"tareas_generadas/embebidas/img0.png\", 0)\n",
    "patch_w = 500\n",
    "step_size = 50\n",
    "n_patches = patches_per_image(image_width=test_img.shape[1], patch_width=patch_w, stepsize=step_size)\n",
    "patches = patch_generator(image=test_img, device=device, n_patches=n_patches, patch_width=patch_w, stepsize=step_size)\n",
    "\n",
    "for i, patch in enumerate(patches):\n",
    "    cv2.imwrite(f\"tareas_generadas/patches/{i}.png\", patch)"
   ]
  },
  {
   "cell_type": "code",
   "execution_count": null,
   "id": "2b0d4546",
   "metadata": {},
   "outputs": [
    {
     "name": "stdout",
     "output_type": "stream",
     "text": [
      "Archivo no encontrado: PaHaW/PaHaW_public/00017/00017__8_1.svc, se omite.\n",
      "Tarea vacía para Sujeto 17, Tarea 8, se omite.\n",
      "Archivo no encontrado: PaHaW/PaHaW_public/00027/00027__8_1.svc, se omite.\n",
      "Tarea vacía para Sujeto 27, Tarea 8, se omite.\n",
      "Archivo no encontrado: PaHaW/PaHaW_public/00061/00061__1_1.svc, se omite.\n",
      "Tarea vacía para Sujeto 61, Tarea 1, se omite.\n",
      "Archivo no encontrado: PaHaW/PaHaW_public/00080/00080__1_1.svc, se omite.\n",
      "Tarea vacía para Sujeto 80, Tarea 1, se omite.\n",
      "Archivo no encontrado: PaHaW/PaHaW_public/00089/00089__1_1.svc, se omite.\n",
      "Tarea vacía para Sujeto 89, Tarea 1, se omite.\n"
     ]
    }
   ],
   "source": [
    "#subjects_pd_status_years, subjects_tasks = pahaw_loader.load()"
   ]
  },
  {
   "cell_type": "code",
   "execution_count": null,
   "id": "4cd4060d",
   "metadata": {},
   "outputs": [
    {
     "name": "stdout",
     "output_type": "stream",
     "text": [
      "cpu\n"
     ]
    }
   ],
   "source": []
  },
  {
   "cell_type": "code",
   "execution_count": 5,
   "id": "d10abb60",
   "metadata": {},
   "outputs": [],
   "source": [
    "subjects_ids = list(subjects_tasks.keys())\n",
    "data_label_img = []\n",
    "for subject_id in subjects_ids:\n",
    "    for task_number in range(2, 9):\n",
    "        task = subjects_tasks[subject_id].get(task_number)\n",
    "        if task is not None:\n",
    "            data_label_img.append(\n",
    "                (\n",
    "                    task,\n",
    "                    subjects_pd_status_years[subject_id][0]\n",
    "                 )\n",
    "            )\n",
    "pahaw_offline_dataset = PahawOfflineSimDataset(data_label_img, device=device)"
   ]
  },
  {
   "cell_type": "code",
   "execution_count": 6,
   "id": "a9021631",
   "metadata": {},
   "outputs": [],
   "source": [
    "def plot_patches(patches: list, npatches_per_plot = 50):\n",
    "    fig, axes = plt.subplots(1, npatches_per_plot, figsize = (12,4))\n",
    "    for i in range(len(patches)):\n",
    "        patch_np = patches[i].squeeze(0).numpy()  # (H, W)\n",
    "\n",
    "        # Escalar si hace falta (está normalizado o en float)\n",
    "        patch_uint8 = (patch_np * 255).astype('uint8') if patch_np.max() <= 1 else patch_np.astype('uint8')\n",
    "        if i < npatches_per_plot:\n",
    "            axes[i].imshow(patch_uint8, cmap='gray')\n",
    "            axes[i].axis('off')\n",
    "        #cv2.imwrite(f\"tareas_generadas/patch{i}.png\", patch_uint8)\n",
    "    plt.show(\"patches_plot.png\")"
   ]
  },
  {
   "cell_type": "code",
   "execution_count": 8,
   "id": "45cc1a69",
   "metadata": {},
   "outputs": [
    {
     "name": "stdout",
     "output_type": "stream",
     "text": [
      "torch.Size([1, 672, 4600])\n"
     ]
    }
   ],
   "source": [
    "patches, label = pahaw_offline_dataset[0]"
   ]
  },
  {
   "cell_type": "code",
   "execution_count": 14,
   "id": "895742db",
   "metadata": {},
   "outputs": [
    {
     "ename": "IndexError",
     "evalue": "list index out of range",
     "output_type": "error",
     "traceback": [
      "\u001b[31m---------------------------------------------------------------------------\u001b[39m",
      "\u001b[31mIndexError\u001b[39m                                Traceback (most recent call last)",
      "\u001b[36mCell\u001b[39m\u001b[36m \u001b[39m\u001b[32mIn[14]\u001b[39m\u001b[32m, line 1\u001b[39m\n\u001b[32m----> \u001b[39m\u001b[32m1\u001b[39m plt.imshow(\u001b[43mpatches\u001b[49m\u001b[43m[\u001b[49m\u001b[32;43m100\u001b[39;49m\u001b[43m]\u001b[49m.squeeze(\u001b[32m0\u001b[39m).numpy(), cmap=\u001b[33m'\u001b[39m\u001b[33mgray\u001b[39m\u001b[33m'\u001b[39m)\n\u001b[32m      2\u001b[39m plt.show()\n",
      "\u001b[31mIndexError\u001b[39m: list index out of range"
     ]
    }
   ],
   "source": [
    "plt.imshow(patches[100].squeeze(0).numpy(), cmap='gray')\n",
    "plt.show()"
   ]
  },
  {
   "cell_type": "code",
   "execution_count": 27,
   "id": "61770c64",
   "metadata": {},
   "outputs": [
    {
     "name": "stdout",
     "output_type": "stream",
     "text": [
      "torch.Size([1, 672, 200])\n"
     ]
    },
    {
     "data": {
      "image/png": "[encoded data removed]",
      "text/plain": [
       "<Figure size 1200x400 with 100 Axes>"
      ]
     },
     "metadata": {},
     "output_type": "display_data"
    }
   ],
   "source": [
    "print(patches[0].shape)\n",
    "plot_patches(patches, 100)"
   ]
  },
  {
   "cell_type": "code",
   "execution_count": null,
   "id": "897c044c",
   "metadata": {},
   "outputs": [],
   "source": []
  }
 ],
 "metadata": {
  "kernelspec": {
   "display_name": ".pdenv",
   "language": "python",
   "name": "python3"
  },
  "language_info": {
   "codemirror_mode": {
    "name": "ipython",
    "version": 3
   },
   "file_extension": ".py",
   "mimetype": "text/x-python",
   "name": "python",
   "nbconvert_exporter": "python",
   "pygments_lexer": "ipython3",
   "version": "3.12.3"
  }
 },
 "nbformat": 4,
 "nbformat_minor": 5
}
